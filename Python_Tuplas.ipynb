{
  "nbformat": 4,
  "nbformat_minor": 0,
  "metadata": {
    "colab": {
      "provenance": [],
      "authorship_tag": "ABX9TyP8145Swz5nR95NxX7oP9kU",
      "include_colab_link": true
    },
    "kernelspec": {
      "name": "python3",
      "display_name": "Python 3"
    },
    "language_info": {
      "name": "python"
    }
  },
  "cells": [
    {
      "cell_type": "markdown",
      "metadata": {
        "id": "view-in-github",
        "colab_type": "text"
      },
      "source": [
        "<a href=\"https://colab.research.google.com/github/Cornelio1983/Python-Tuplas/blob/main/Python_Tuplas.ipynb\" target=\"_parent\"><img src=\"https://colab.research.google.com/assets/colab-badge.svg\" alt=\"Open In Colab\"/></a>"
      ]
    },
    {
      "cell_type": "code",
      "execution_count": null,
      "metadata": {
        "colab": {
          "base_uri": "https://localhost:8080/"
        },
        "id": "h6tceZ-vDJ80",
        "outputId": "d96687ca-0cf1-4ff1-9c9b-23d8143134d0"
      },
      "outputs": [
        {
          "output_type": "stream",
          "name": "stdout",
          "text": [
            "('Hambúrguer', 'Suco', 'Pizza', 'Pudim')\n",
            "Pizza\n",
            "('Suco', 'Pizza')\n",
            "('Hambúrguer', 'Suco')\n",
            "('Pizza',)\n",
            "Pudim\n"
          ]
        }
      ],
      "source": [
        "# Tupla para guardar nome de alimentos\n",
        "# Lembrando que os valores de um tupla são imutáveis, a menos que pare o programa e troque-os\n",
        "\n",
        "lanche = ('Hambúrguer', 'Suco', 'Pizza', 'Pudim')\n",
        "# imprimindo valores da tupla lanches\n",
        "print(lanche)\n",
        "# fateando e imprimindo valores da tupla\n",
        "print(lanche[2])\n",
        "print(lanche[1:3])\n",
        "print(lanche[:2])\n",
        "print(lanche[2:3])\n",
        "print(lanche[-1])"
      ]
    },
    {
      "cell_type": "code",
      "source": [
        "# Implementando laço para percorrer a tupla\n",
        "\n",
        "# percorrendo a tupla através do metodo range\n",
        "for cont in range(0, len(lanche)):\n",
        "  print('Eu vou comer {}'.format(lanche[cont]))\n",
        "# imprimindo mensagem para dizer que comeu muito\n",
        "print('Comi pra caramba!')\n",
        "\n",
        "# imprimindo tracejado entre os tipos de For\n",
        "print('-'*25)\n",
        "\n",
        "# laço alimento para percorrer valores da tupla lanhe\n",
        "for alimento in lanche:\n",
        "  # imprimindo mensagem para cada tipo de alimento\n",
        "  print('Eu vou comer {}'.format(alimento))\n",
        "\n",
        "# imprimindo mensagem para dizer que comeu muito\n",
        "print('Comi pra caramba!')"
      ],
      "metadata": {
        "colab": {
          "base_uri": "https://localhost:8080/"
        },
        "id": "PlFpd3pdJaX9",
        "outputId": "57490d40-1aac-4b54-fc0b-3f62bc786d6f"
      },
      "execution_count": null,
      "outputs": [
        {
          "output_type": "stream",
          "name": "stdout",
          "text": [
            "Eu vou comer Hambúrguer\n",
            "Eu vou comer Suco\n",
            "Eu vou comer Pizza\n",
            "Eu vou comer Pudim\n",
            "Comi pra caramba!\n",
            "-------------------------\n",
            "Eu vou comer Hambúrguer\n",
            "Eu vou comer Suco\n",
            "Eu vou comer Pizza\n",
            "Eu vou comer Pudim\n",
            "Comi pra caramba!\n"
          ]
        }
      ]
    },
    {
      "cell_type": "code",
      "source": [
        "# Imprimindo a tupla em ordem alfabética através do método sorted, porém sem mudá-la\n",
        "print(sorted(lanche))\n",
        "# imprimindo tupla original\n",
        "print(lanche)"
      ],
      "metadata": {
        "colab": {
          "base_uri": "https://localhost:8080/"
        },
        "id": "1S9KTFqTNBaU",
        "outputId": "fd0921eb-be8a-48a5-f31d-85ab62ded381"
      },
      "execution_count": null,
      "outputs": [
        {
          "output_type": "stream",
          "name": "stdout",
          "text": [
            "['Hambúrguer', 'Pizza', 'Pudim', 'Suco']\n",
            "('Hambúrguer', 'Suco', 'Pizza', 'Pudim')\n"
          ]
        }
      ]
    },
    {
      "cell_type": "code",
      "source": [
        "# criando tupla para cojunto de numeros\n",
        "\n",
        "# tupla A\n",
        "a = (2,5,4)\n",
        "# tupla B\n",
        "b = (5,8,1,2)\n",
        "# somando as tuplas\n",
        "c = a + b\n",
        "# imprimindo a tupla, mas o valores não serão somados\n",
        "print(c)\n",
        "# contando quantas vezes um elemento aparece na tupla\n",
        "print(c.count(5))\n",
        "# mostrando a posicao do numero na tupla\n",
        "print(c.index(8))"
      ],
      "metadata": {
        "colab": {
          "base_uri": "https://localhost:8080/"
        },
        "id": "t86rX5qcPSGZ",
        "outputId": "c1e27bf4-ac14-4d34-f230-a72fbd7c3bc7"
      },
      "execution_count": null,
      "outputs": [
        {
          "output_type": "stream",
          "name": "stdout",
          "text": [
            "(2, 5, 4, 5, 8, 1, 2)\n",
            "2\n",
            "4\n"
          ]
        }
      ]
    },
    {
      "cell_type": "code",
      "source": [
        "# tupla pessoa, guardando valores de diversos tipos\n",
        "pessoa = ('Nelio', 39, 'M', 1.82)\n",
        "# imprimindo a tupla pessoa\n",
        "print(pessoa)"
      ],
      "metadata": {
        "colab": {
          "base_uri": "https://localhost:8080/"
        },
        "id": "R6dAbIKiT6LF",
        "outputId": "6bc13f5a-feb1-4c61-92b8-ab983a3b4fb4"
      },
      "execution_count": null,
      "outputs": [
        {
          "output_type": "stream",
          "name": "stdout",
          "text": [
            "('Nelio', 39, 'M', 1.82)\n"
          ]
        }
      ]
    }
  ]
}