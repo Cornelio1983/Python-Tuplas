{
  "nbformat": 4,
  "nbformat_minor": 0,
  "metadata": {
    "colab": {
      "provenance": [],
      "authorship_tag": "ABX9TyP/i9rvS5jYufLTHTFleyDK",
      "include_colab_link": true
    },
    "kernelspec": {
      "name": "python3",
      "display_name": "Python 3"
    },
    "language_info": {
      "name": "python"
    }
  },
  "cells": [
    {
      "cell_type": "markdown",
      "metadata": {
        "id": "view-in-github",
        "colab_type": "text"
      },
      "source": [
        "<a href=\"https://colab.research.google.com/github/Cornelio1983/Python-Tuplas/blob/main/Python_Tuplas.ipynb\" target=\"_parent\"><img src=\"https://colab.research.google.com/assets/colab-badge.svg\" alt=\"Open In Colab\"/></a>"
      ]
    },
    {
      "cell_type": "code",
      "execution_count": 5,
      "metadata": {
        "colab": {
          "base_uri": "https://localhost:8080/"
        },
        "id": "h6tceZ-vDJ80",
        "outputId": "d96687ca-0cf1-4ff1-9c9b-23d8143134d0"
      },
      "outputs": [
        {
          "output_type": "stream",
          "name": "stdout",
          "text": [
            "('Hambúrguer', 'Suco', 'Pizza', 'Pudim')\n",
            "Pizza\n",
            "('Suco', 'Pizza')\n",
            "('Hambúrguer', 'Suco')\n",
            "('Pizza',)\n",
            "Pudim\n"
          ]
        }
      ],
      "source": [
        "# Tupla para guardar nome de alimentos\n",
        "# Lembrando que os valores de um tupla são imutáveis, a menos que pare o programa e troque-os\n",
        "\n",
        "lanche = ('Hambúrguer', 'Suco', 'Pizza', 'Pudim')\n",
        "# imprimindo valores da tupla lanches\n",
        "print(lanche)\n",
        "# fateando e imprimindo valores da tupla\n",
        "print(lanche[2])\n",
        "print(lanche[1:3])\n",
        "print(lanche[:2])\n",
        "print(lanche[2:3])\n",
        "print(lanche[-1])"
      ]
    },
    {
      "cell_type": "code",
      "source": [
        "# Implementando laço para percorrer a tupla\n",
        "# laço\n",
        "for alimento in lanche:\n",
        "  # imprimindo mensagem para cada tipo de alimento\n",
        "  print('Eu vou comer {}'.format(alimento))\n",
        "# imprimindo mensagem para dizer que comeu muito\n",
        "print('Comi pra caramba!')"
      ],
      "metadata": {
        "colab": {
          "base_uri": "https://localhost:8080/"
        },
        "id": "PlFpd3pdJaX9",
        "outputId": "b1f02ff1-ff2e-4fa5-c8a2-6c98de705804"
      },
      "execution_count": 6,
      "outputs": [
        {
          "output_type": "stream",
          "name": "stdout",
          "text": [
            "Eu vou comer Hambúrguer\n",
            "Eu vou comer Suco\n",
            "Eu vou comer Pizza\n",
            "Eu vou comer Pudim\n",
            "Comi pra caramba!\n"
          ]
        }
      ]
    }
  ]
}